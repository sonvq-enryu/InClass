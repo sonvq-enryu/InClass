{
 "cells": [
  {
   "cell_type": "code",
   "execution_count": 1,
   "metadata": {},
   "outputs": [],
   "source": [
    "import numpy as np\n",
    "import pandas as pd\n",
    "import matplotlib.pyplot as plt"
   ]
  },
  {
   "cell_type": "code",
   "execution_count": 2,
   "metadata": {},
   "outputs": [],
   "source": [
    "def softmax(z):\n",
    "    e = np.exp(z)\n",
    "    e = e / e.sum(axis=0)\n",
    "    return e\n",
    "\n",
    "def relu(z):\n",
    "    return np.maximum(0, z)\n",
    "\n",
    "def d_relu(z):\n",
    "    z[z <= 0] = 0\n",
    "    z[z > 0] = 1\n",
    "    return z\n",
    "\n",
    "def one_hot_encoding(y):\n",
    "    # đưa về 3 * 150\n",
    "    col = np.amax(y) + 1\n",
    "    res = np.zeros((col, len(y)))\n",
    "    for i in range(len(y)):\n",
    "        res[y[i], i] = 1\n",
    "    \n",
    "    return res"
   ]
  },
  {
   "cell_type": "code",
   "execution_count": 3,
   "metadata": {},
   "outputs": [],
   "source": [
    "iris = pd.read_csv('./Iris.csv')\n",
    "# lấy các thuộc tính của dữ liệu \n",
    "columns = ['SepalLengthCm', 'SepalWidthCm', 'PetalLengthCm', 'PetalWidthCm']\n",
    "# đưa tên loại hoa về phân loại\n",
    "iris['Species'].replace(['Setosa', 'Versicolor', 'Virginica'], [0, 1, 2], inplace=True)\n",
    "\n",
    "# lấy giá trị của cột Species vào y\n",
    "y = np.array(iris['Species'])\n",
    "# lấy các giá trị vào x\n",
    "x = np.array(iris[columns])\n",
    "# X = np.array(x).T # (4, 150)\n",
    "# Y = one_hot_coding(y) # (3, 150)"
   ]
  },
  {
   "cell_type": "code",
   "execution_count": 5,
   "metadata": {},
   "outputs": [
    {
     "data": {
      "text/plain": [
       "array([0, 0, 0, 0, 0, 0, 0, 0, 0, 0, 0, 0, 0, 0, 0, 0, 0, 0, 0, 0, 0, 0,\n",
       "       0, 0, 0, 0, 0, 0, 0, 0, 0, 0, 0, 0, 0, 0, 0, 0, 0, 0, 0, 0, 0, 0,\n",
       "       0, 0, 0, 0, 0, 0, 1, 1, 1, 1, 1, 1, 1, 1, 1, 1, 1, 1, 1, 1, 1, 1,\n",
       "       1, 1, 1, 1, 1, 1, 1, 1, 1, 1, 1, 1, 1, 1, 1, 1, 1, 1, 1, 1, 1, 1,\n",
       "       1, 1, 1, 1, 1, 1, 1, 1, 1, 1, 1, 1, 2, 2, 2, 2, 2, 2, 2, 2, 2, 2,\n",
       "       2, 2, 2, 2, 2, 2, 2, 2, 2, 2, 2, 2, 2, 2, 2, 2, 2, 2, 2, 2, 2, 2,\n",
       "       2, 2, 2, 2, 2, 2, 2, 2, 2, 2, 2, 2, 2, 2, 2, 2, 2, 2])"
      ]
     },
     "execution_count": 5,
     "metadata": {},
     "output_type": "execute_result"
    }
   ],
   "source": [
    "y"
   ]
  },
  {
   "cell_type": "code",
   "execution_count": 6,
   "metadata": {},
   "outputs": [],
   "source": [
    "from sklearn.model_selection import train_test_split\n",
    "X_train, X_test, y_train, y_test = train_test_split(x, y, test_size=0.2, random_state=9)"
   ]
  },
  {
   "cell_type": "code",
   "execution_count": 7,
   "metadata": {},
   "outputs": [
    {
     "data": {
      "text/plain": [
       "((120, 4), (120,), (30, 4), (30,))"
      ]
     },
     "execution_count": 7,
     "metadata": {},
     "output_type": "execute_result"
    }
   ],
   "source": [
    "X_train.shape, y_train.shape, X_test.shape, y_test.shape"
   ]
  },
  {
   "cell_type": "code",
   "execution_count": 6,
   "metadata": {},
   "outputs": [],
   "source": [
    "from sklearn.preprocessing import OneHotEncoder"
   ]
  },
  {
   "cell_type": "code",
   "execution_count": 8,
   "metadata": {},
   "outputs": [
    {
     "data": {
      "text/plain": [
       "((120, 4), (120,), (30, 4), (30,))"
      ]
     },
     "execution_count": 8,
     "metadata": {},
     "output_type": "execute_result"
    }
   ],
   "source": [
    "X_train_n = np.array(X_train).T; y_train_n = one_hot_encoding(y_train.T)\n",
    "X_test_n = np.array(X_test).T; y_test_n = one_hot_encoding(y_test.T)\n",
    "X_train.shape, y_train.shape, X_test.shape, y_test.shape"
   ]
  },
  {
   "cell_type": "code",
   "execution_count": 9,
   "metadata": {},
   "outputs": [
    {
     "data": {
      "text/plain": [
       "((4, 120), (4, 30), (3, 120), (3, 30))"
      ]
     },
     "execution_count": 9,
     "metadata": {},
     "output_type": "execute_result"
    }
   ],
   "source": [
    "X_train_n.shape, X_test_n.shape, y_train_n.shape, y_test_n.shape"
   ]
  },
  {
   "cell_type": "code",
   "execution_count": 10,
   "metadata": {},
   "outputs": [],
   "source": [
    "input_layer = 150\n",
    "hidden_layer = 50\n",
    "output_layer = 3"
   ]
  },
  {
   "cell_type": "code",
   "execution_count": 11,
   "metadata": {},
   "outputs": [],
   "source": [
    "# khởi tạo giá trị của weights and bias\n",
    "w1 = 0.01 * np.random.rand(50, 4)\n",
    "w2 = 0.01 * np.random.rand(3, 50)\n",
    "b1 = np.zeros((50, 1))\n",
    "b2 = np.zeros((3, 1))"
   ]
  },
  {
   "cell_type": "code",
   "execution_count": 21,
   "metadata": {},
   "outputs": [
    {
     "name": "stdout",
     "output_type": "stream",
     "text": [
      "6.975202272564346\n",
      "6.965751845986231\n",
      "6.9565643264713195\n",
      "6.94757506278105\n",
      "6.938581414667485\n",
      "6.929626638013593\n",
      "6.920872719290167\n",
      "6.912512861026282\n",
      "6.903856257519688\n",
      "6.895350825103854\n",
      "6.886863668116079\n",
      "6.878448431954181\n",
      "6.87008994855549\n",
      "6.861811989173034\n",
      "6.853609380083074\n",
      "6.845627259458103\n",
      "6.838516214657193\n",
      "6.830969267902476\n",
      "6.823891275735628\n",
      "6.816573544700766\n",
      "6.801321707078893\n",
      "6.793129291764121\n",
      "6.784215538177141\n",
      "6.77553709259098\n",
      "6.766905184908413\n",
      "6.7487042332763405\n",
      "6.743377397894968\n",
      "6.733333264258583\n",
      "6.724715253181767\n",
      "6.714186042511593\n",
      "6.703923952830346\n",
      "6.694043243640611\n",
      "6.684218480068456\n",
      "6.674496058226993\n",
      "6.6652092761396275\n",
      "6.656368164188822\n",
      "6.647345756338122\n",
      "6.638441587787462\n",
      "6.6298225279570975\n",
      "6.621313144907488\n",
      "6.613082156757533\n",
      "6.605358406100651\n",
      "6.597642644484219\n",
      "6.5907174973364455\n",
      "6.571441951665767\n",
      "6.5731302391741995\n",
      "6.562420335352643\n",
      "6.553898516297071\n",
      "6.54585209052628\n",
      "6.538029078007973\n",
      "6.530547693070434\n",
      "6.52348739106621\n",
      "6.516897029514259\n",
      "6.510535168577867\n",
      "6.487545998390992\n",
      "6.487425620682546\n",
      "6.479465401554113\n",
      "6.467957258743956\n",
      "6.45853253581949\n",
      "6.448878347837316\n",
      "6.439300775165837\n",
      "6.429915518119669\n",
      "6.420623252054165\n",
      "6.410429692640044\n",
      "6.401613578422457\n",
      "6.3923265219164636\n",
      "6.383278880090703\n",
      "6.374339359016788\n",
      "6.365446028743597\n",
      "6.356664844222171\n",
      "6.34817236220794\n",
      "6.339346873671339\n",
      "6.330802269901338\n",
      "6.322289996440954\n",
      "6.313492752496965\n",
      "6.305591783219305\n",
      "6.2972162800285485\n",
      "6.2892540600532545\n",
      "6.281232056365118\n",
      "6.274604249391658\n",
      "6.265807573204125\n",
      "6.258826852584276\n",
      "6.2510079296639125\n",
      "6.243684682503306\n",
      "6.236730265953577\n",
      "6.230597148102811\n",
      "6.223893894392409\n",
      "6.217318388749634\n",
      "6.211036448795226\n",
      "6.204964515169358\n",
      "6.198810189772708\n",
      "6.192818010251447\n",
      "6.183033831630759\n",
      "6.186672840287304\n",
      "6.191519285325144\n",
      "6.176139291290826\n",
      "6.161425070901408\n",
      "6.156604821235706\n",
      "6.148549086636605\n",
      "6.1404208194634435\n",
      "[2 2 0 1 1 1 1 0 2 0 0 2 1 0 2 1 0 1 0 2 1 1 0 1 2 2 2 2 1 0 2 0 0 1 2 0 1\n",
      " 1 2 1 1 0 0 2 1 0 2 2 2 1 0 1 1 0 0 2 1 2 0 1 0 0 1 2 2 0 0 1 1 2 2 0 2 0\n",
      " 0 2 0 2 1 0 2 1 1 0 2 1 2 2 1 2 1 1 0 1 2 0 2 1 0 2 2 0 2 0 0 2 2 1 2 1 2\n",
      " 0 1 0 1 2 1 2 1 2]\n"
     ]
    }
   ],
   "source": [
    "learning_rate = 0.05 # learning rate\n",
    "epoch = 10000\n",
    "num_examples = input_layer\n",
    "# mảng loss để vẽ biểu đồ\n",
    "losses = []\n",
    "for e in range(epoch):\n",
    "    # Forward\n",
    "#     A0 = X\n",
    "    A0 = X_train_n\n",
    "    A1 = relu(np.dot(w1, A0) + b1)\n",
    "    A2 = softmax(np.dot(w2, A1) + b2)\n",
    "    \n",
    "    # Backward\n",
    "#     dz2 = A2 - Y\n",
    "    dz2 = A2 - y_train_n\n",
    "    dw2 = np.dot(dz2, A1.T) / num_examples\n",
    "    db2 = np.sum(dz2, axis=1, keepdims=True) / num_examples\n",
    "    \n",
    "    # lớp giữa\n",
    "    dz1 = np.dot(w2.T, dz2) * relu(A1)\n",
    "    dw1 = np.dot(dz1, A0.T) / num_examples\n",
    "    db1 = np.sum(dz1, axis=1, keepdims=True) / num_examples\n",
    "    \n",
    "    # Cập nhật weights và bias\n",
    "    w2 -= dw2 * learning_rate\n",
    "    w1 -= dw1 * learning_rate\n",
    "    b2 -= db2 * learning_rate\n",
    "    b1 -= db1 * learning_rate\n",
    "    \n",
    "    if (e+1)%100==0:\n",
    "        loss = -np.sum( y_train_n * np.log(A2) )\n",
    "        losses.append(loss)\n",
    "        print(loss)\n",
    "#     loss = -np.sum( Y * np.log(A2) )\n",
    "#     losses.append(loss)\n",
    "print(np.argmax(A2, axis=0))"
   ]
  },
  {
   "cell_type": "code",
   "execution_count": 14,
   "metadata": {},
   "outputs": [
    {
     "data": {
      "image/png": "[encoded data removed]",
      "text/plain": [
       "<Figure size 432x288 with 1 Axes>"
      ]
     },
     "metadata": {
      "needs_background": "light"
     },
     "output_type": "display_data"
    }
   ],
   "source": [
    "plt.plot(losses)\n",
    "plt.xlabel('Training')\n",
    "plt.ylabel('Loss')\n",
    "plt.show()"
   ]
  },
  {
   "cell_type": "code",
   "execution_count": 15,
   "metadata": {},
   "outputs": [],
   "source": [
    "# X_test_n = X_test_n.T\n",
    "# y_test_n = y_test_n.T\n",
    "# X_test_n[0], y_test_n[0]"
   ]
  },
  {
   "cell_type": "code",
   "execution_count": 16,
   "metadata": {},
   "outputs": [
    {
     "name": "stdout",
     "output_type": "stream",
     "text": [
      "Accuracy:  100.0 %\n"
     ]
    }
   ],
   "source": [
    "# Predictor\n",
    "A0 = X_test_n\n",
    "A1 = relu(np.dot(w1, A0) + b1)\n",
    "A2 = softmax(np.dot(w2, A1) + b2)\n",
    "\n",
    "# Check accuracy\n",
    "y_pred = []\n",
    "counter = 0\n",
    "for label_predict, label_real in zip(A2.T, y_test_n.T):\n",
    "    predict = np.argmax(label_predict)\n",
    "    real = np.argmax(label_real)\n",
    "    y_pred.append(predict)\n",
    "    if predict == real:\n",
    "        counter += 1\n",
    "print(\"Accuracy: \", counter*100 / y_test_n.shape[1], \"%\")"
   ]
  },
  {
   "cell_type": "code",
   "execution_count": 17,
   "metadata": {},
   "outputs": [
    {
     "data": {
      "text/plain": [
       "(3, 30)"
      ]
     },
     "execution_count": 17,
     "metadata": {},
     "output_type": "execute_result"
    }
   ],
   "source": [
    "y_test_n.shape"
   ]
  },
  {
   "cell_type": "code",
   "execution_count": null,
   "metadata": {},
   "outputs": [],
   "source": []
  },
  {
   "cell_type": "code",
   "execution_count": null,
   "metadata": {},
   "outputs": [],
   "source": []
  }
 ],
 "metadata": {
  "kernelspec": {
   "display_name": "Python 3",
   "language": "python",
   "name": "python3"
  },
  "language_info": {
   "codemirror_mode": {
    "name": "ipython",
    "version": 3
   },
   "file_extension": ".py",
   "mimetype": "text/x-python",
   "name": "python",
   "nbconvert_exporter": "python",
   "pygments_lexer": "ipython3",
   "version": "3.6.12"
  }
 },
 "nbformat": 4,
 "nbformat_minor": 4
}
